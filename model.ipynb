{
 "cells": [
  {
   "cell_type": "markdown",
   "metadata": {},
   "source": [
    "# Importing the basic libraries for reading data and plotting"
   ]
  },
  {
   "cell_type": "code",
   "execution_count": 1,
   "metadata": {},
   "outputs": [],
   "source": [
    "import pandas as pd \n",
    "import matplotlib.pyplot as plt\n",
    "import numpy as np\n",
    "import seaborn as sn\n",
    "import warnings\n",
    "# this ignores warning to make the output easy to read if there was a warning\n",
    "warnings.filterwarnings('ignore')"
   ]
  },
  {
   "cell_type": "markdown",
   "metadata": {},
   "source": [
    "# loading data"
   ]
  },
  {
   "cell_type": "code",
   "execution_count": 2,
   "metadata": {},
   "outputs": [],
   "source": [
    "train=pd.read_csv(\"train.csv\")\n",
    "test=pd.read_csv(\"test.csv\")"
   ]
  },
  {
   "cell_type": "markdown",
   "metadata": {},
   "source": [
    "# Displaying the first 5 rows of each dataframe"
   ]
  },
  {
   "cell_type": "code",
   "execution_count": 3,
   "metadata": {},
   "outputs": [
    {
     "data": {
      "text/html": [
       "<div>\n",
       "<style scoped>\n",
       "    .dataframe tbody tr th:only-of-type {\n",
       "        vertical-align: middle;\n",
       "    }\n",
       "\n",
       "    .dataframe tbody tr th {\n",
       "        vertical-align: top;\n",
       "    }\n",
       "\n",
       "    .dataframe thead th {\n",
       "        text-align: right;\n",
       "    }\n",
       "</style>\n",
       "<table border=\"1\" class=\"dataframe\">\n",
       "  <thead>\n",
       "    <tr style=\"text-align: right;\">\n",
       "      <th></th>\n",
       "      <th>variable1</th>\n",
       "      <th>variable2</th>\n",
       "      <th>variable3</th>\n",
       "      <th>variable4</th>\n",
       "      <th>variable5</th>\n",
       "      <th>variable6</th>\n",
       "      <th>variable7</th>\n",
       "      <th>variable8</th>\n",
       "      <th>variable9</th>\n",
       "      <th>variable10</th>\n",
       "      <th>...</th>\n",
       "      <th>variable13</th>\n",
       "      <th>variable14</th>\n",
       "      <th>variable15</th>\n",
       "      <th>variable16</th>\n",
       "      <th>variable17</th>\n",
       "      <th>variable18</th>\n",
       "      <th>variable19</th>\n",
       "      <th>variable20</th>\n",
       "      <th>variable21</th>\n",
       "      <th>classLabel</th>\n",
       "    </tr>\n",
       "  </thead>\n",
       "  <tbody>\n",
       "    <tr>\n",
       "      <th>0</th>\n",
       "      <td>b</td>\n",
       "      <td>16.0</td>\n",
       "      <td>92.0</td>\n",
       "      <td>3</td>\n",
       "      <td>35e-05</td>\n",
       "      <td>y</td>\n",
       "      <td>p</td>\n",
       "      <td>k</td>\n",
       "      <td>v</td>\n",
       "      <td>0</td>\n",
       "      <td>...</td>\n",
       "      <td>f</td>\n",
       "      <td>0</td>\n",
       "      <td>f</td>\n",
       "      <td>s</td>\n",
       "      <td>200</td>\n",
       "      <td>0</td>\n",
       "      <td>2e+06</td>\n",
       "      <td>NaN</td>\n",
       "      <td>0</td>\n",
       "      <td>no.</td>\n",
       "    </tr>\n",
       "    <tr>\n",
       "      <th>1</th>\n",
       "      <td>b</td>\n",
       "      <td>31.0</td>\n",
       "      <td>25.0</td>\n",
       "      <td>0</td>\n",
       "      <td>0001125</td>\n",
       "      <td>u</td>\n",
       "      <td>g</td>\n",
       "      <td>ff</td>\n",
       "      <td>ff</td>\n",
       "      <td>0</td>\n",
       "      <td>...</td>\n",
       "      <td>1</td>\n",
       "      <td>f</td>\n",
       "      <td>g</td>\n",
       "      <td>96</td>\n",
       "      <td>19</td>\n",
       "      <td>960000</td>\n",
       "      <td>t</td>\n",
       "      <td>0</td>\n",
       "      <td>no.</td>\n",
       "      <td>NaN</td>\n",
       "    </tr>\n",
       "    <tr>\n",
       "      <th>2</th>\n",
       "      <td>a</td>\n",
       "      <td>48.0</td>\n",
       "      <td>17.0</td>\n",
       "      <td>0</td>\n",
       "      <td>0001335</td>\n",
       "      <td>u</td>\n",
       "      <td>g</td>\n",
       "      <td>i</td>\n",
       "      <td>o</td>\n",
       "      <td>0</td>\n",
       "      <td>...</td>\n",
       "      <td>f</td>\n",
       "      <td>0</td>\n",
       "      <td>f</td>\n",
       "      <td>g</td>\n",
       "      <td>0</td>\n",
       "      <td>120</td>\n",
       "      <td>0</td>\n",
       "      <td>NaN</td>\n",
       "      <td>0</td>\n",
       "      <td>no.</td>\n",
       "    </tr>\n",
       "    <tr>\n",
       "      <th>3</th>\n",
       "      <td>b</td>\n",
       "      <td>32.0</td>\n",
       "      <td>33.0</td>\n",
       "      <td>0</td>\n",
       "      <td>00035</td>\n",
       "      <td>u</td>\n",
       "      <td>g</td>\n",
       "      <td>k</td>\n",
       "      <td>v</td>\n",
       "      <td>0</td>\n",
       "      <td>...</td>\n",
       "      <td>f</td>\n",
       "      <td>0</td>\n",
       "      <td>t</td>\n",
       "      <td>g</td>\n",
       "      <td>232</td>\n",
       "      <td>0</td>\n",
       "      <td>2320000</td>\n",
       "      <td>f</td>\n",
       "      <td>0</td>\n",
       "      <td>no.</td>\n",
       "    </tr>\n",
       "    <tr>\n",
       "      <th>4</th>\n",
       "      <td>a</td>\n",
       "      <td>34.0</td>\n",
       "      <td>83.0</td>\n",
       "      <td>0</td>\n",
       "      <td>000125</td>\n",
       "      <td>y</td>\n",
       "      <td>p</td>\n",
       "      <td>i</td>\n",
       "      <td>h</td>\n",
       "      <td>0</td>\n",
       "      <td>...</td>\n",
       "      <td>f</td>\n",
       "      <td>0</td>\n",
       "      <td>t</td>\n",
       "      <td>g</td>\n",
       "      <td>160</td>\n",
       "      <td>0</td>\n",
       "      <td>1600000</td>\n",
       "      <td>f</td>\n",
       "      <td>0</td>\n",
       "      <td>no.</td>\n",
       "    </tr>\n",
       "  </tbody>\n",
       "</table>\n",
       "<p>5 rows × 22 columns</p>\n",
       "</div>"
      ],
      "text/plain": [
       "  variable1  variable2  variable3 variable4 variable5 variable6 variable7  \\\n",
       "0         b       16.0       92.0         3    35e-05         y         p   \n",
       "1         b       31.0       25.0         0   0001125         u         g   \n",
       "2         a       48.0       17.0         0   0001335         u         g   \n",
       "3         b       32.0       33.0         0     00035         u         g   \n",
       "4         a       34.0       83.0         0    000125         y         p   \n",
       "\n",
       "  variable8 variable9 variable10  ... variable13 variable14 variable15  \\\n",
       "0         k         v          0  ...          f          0          f   \n",
       "1        ff        ff          0  ...          1          f          g   \n",
       "2         i         o          0  ...          f          0          f   \n",
       "3         k         v          0  ...          f          0          t   \n",
       "4         i         h          0  ...          f          0          t   \n",
       "\n",
       "  variable16 variable17 variable18 variable19 variable20 variable21 classLabel  \n",
       "0          s        200          0      2e+06        NaN          0        no.  \n",
       "1         96         19     960000          t          0        no.        NaN  \n",
       "2          g          0        120          0        NaN          0        no.  \n",
       "3          g        232          0    2320000          f          0        no.  \n",
       "4          g        160          0    1600000          f          0        no.  \n",
       "\n",
       "[5 rows x 22 columns]"
      ]
     },
     "execution_count": 3,
     "metadata": {},
     "output_type": "execute_result"
    }
   ],
   "source": [
    "train.head()"
   ]
  },
  {
   "cell_type": "code",
   "execution_count": 4,
   "metadata": {},
   "outputs": [
    {
     "data": {
      "text/html": [
       "<div>\n",
       "<style scoped>\n",
       "    .dataframe tbody tr th:only-of-type {\n",
       "        vertical-align: middle;\n",
       "    }\n",
       "\n",
       "    .dataframe tbody tr th {\n",
       "        vertical-align: top;\n",
       "    }\n",
       "\n",
       "    .dataframe thead th {\n",
       "        text-align: right;\n",
       "    }\n",
       "</style>\n",
       "<table border=\"1\" class=\"dataframe\">\n",
       "  <thead>\n",
       "    <tr style=\"text-align: right;\">\n",
       "      <th></th>\n",
       "      <th>variable1</th>\n",
       "      <th>variable2</th>\n",
       "      <th>variable3</th>\n",
       "      <th>variable4</th>\n",
       "      <th>variable5</th>\n",
       "      <th>variable6</th>\n",
       "      <th>variable7</th>\n",
       "      <th>variable8</th>\n",
       "      <th>variable9</th>\n",
       "      <th>variable10</th>\n",
       "      <th>...</th>\n",
       "      <th>variable13</th>\n",
       "      <th>variable14</th>\n",
       "      <th>variable15</th>\n",
       "      <th>variable16</th>\n",
       "      <th>variable17</th>\n",
       "      <th>variable18</th>\n",
       "      <th>variable19</th>\n",
       "      <th>variable20</th>\n",
       "      <th>variable21</th>\n",
       "      <th>classLabel</th>\n",
       "    </tr>\n",
       "  </thead>\n",
       "  <tbody>\n",
       "    <tr>\n",
       "      <th>0</th>\n",
       "      <td>b</td>\n",
       "      <td>16.0</td>\n",
       "      <td>92.0</td>\n",
       "      <td>3</td>\n",
       "      <td>35e-05</td>\n",
       "      <td>y</td>\n",
       "      <td>p</td>\n",
       "      <td>k</td>\n",
       "      <td>v</td>\n",
       "      <td>0</td>\n",
       "      <td>...</td>\n",
       "      <td>f</td>\n",
       "      <td>0</td>\n",
       "      <td>f</td>\n",
       "      <td>s</td>\n",
       "      <td>200</td>\n",
       "      <td>0</td>\n",
       "      <td>2e+06</td>\n",
       "      <td>NaN</td>\n",
       "      <td>0</td>\n",
       "      <td>no.</td>\n",
       "    </tr>\n",
       "    <tr>\n",
       "      <th>1</th>\n",
       "      <td>b</td>\n",
       "      <td>31.0</td>\n",
       "      <td>25.0</td>\n",
       "      <td>0</td>\n",
       "      <td>0001125</td>\n",
       "      <td>u</td>\n",
       "      <td>g</td>\n",
       "      <td>ff</td>\n",
       "      <td>ff</td>\n",
       "      <td>0</td>\n",
       "      <td>...</td>\n",
       "      <td>1</td>\n",
       "      <td>f</td>\n",
       "      <td>g</td>\n",
       "      <td>96</td>\n",
       "      <td>19</td>\n",
       "      <td>960000</td>\n",
       "      <td>t</td>\n",
       "      <td>0</td>\n",
       "      <td>no.</td>\n",
       "      <td>NaN</td>\n",
       "    </tr>\n",
       "    <tr>\n",
       "      <th>2</th>\n",
       "      <td>a</td>\n",
       "      <td>48.0</td>\n",
       "      <td>17.0</td>\n",
       "      <td>0</td>\n",
       "      <td>0001335</td>\n",
       "      <td>u</td>\n",
       "      <td>g</td>\n",
       "      <td>i</td>\n",
       "      <td>o</td>\n",
       "      <td>0</td>\n",
       "      <td>...</td>\n",
       "      <td>f</td>\n",
       "      <td>0</td>\n",
       "      <td>f</td>\n",
       "      <td>g</td>\n",
       "      <td>0</td>\n",
       "      <td>120</td>\n",
       "      <td>0</td>\n",
       "      <td>NaN</td>\n",
       "      <td>0</td>\n",
       "      <td>no.</td>\n",
       "    </tr>\n",
       "    <tr>\n",
       "      <th>3</th>\n",
       "      <td>b</td>\n",
       "      <td>32.0</td>\n",
       "      <td>33.0</td>\n",
       "      <td>0</td>\n",
       "      <td>00035</td>\n",
       "      <td>u</td>\n",
       "      <td>g</td>\n",
       "      <td>k</td>\n",
       "      <td>v</td>\n",
       "      <td>0</td>\n",
       "      <td>...</td>\n",
       "      <td>f</td>\n",
       "      <td>0</td>\n",
       "      <td>t</td>\n",
       "      <td>g</td>\n",
       "      <td>232</td>\n",
       "      <td>0</td>\n",
       "      <td>2320000</td>\n",
       "      <td>f</td>\n",
       "      <td>0</td>\n",
       "      <td>no.</td>\n",
       "    </tr>\n",
       "    <tr>\n",
       "      <th>4</th>\n",
       "      <td>a</td>\n",
       "      <td>34.0</td>\n",
       "      <td>83.0</td>\n",
       "      <td>0</td>\n",
       "      <td>000125</td>\n",
       "      <td>y</td>\n",
       "      <td>p</td>\n",
       "      <td>i</td>\n",
       "      <td>h</td>\n",
       "      <td>0</td>\n",
       "      <td>...</td>\n",
       "      <td>f</td>\n",
       "      <td>0</td>\n",
       "      <td>t</td>\n",
       "      <td>g</td>\n",
       "      <td>160</td>\n",
       "      <td>0</td>\n",
       "      <td>1600000</td>\n",
       "      <td>f</td>\n",
       "      <td>0</td>\n",
       "      <td>no.</td>\n",
       "    </tr>\n",
       "  </tbody>\n",
       "</table>\n",
       "<p>5 rows × 22 columns</p>\n",
       "</div>"
      ],
      "text/plain": [
       "  variable1  variable2  variable3 variable4 variable5 variable6 variable7  \\\n",
       "0         b       16.0       92.0         3    35e-05         y         p   \n",
       "1         b       31.0       25.0         0   0001125         u         g   \n",
       "2         a       48.0       17.0         0   0001335         u         g   \n",
       "3         b       32.0       33.0         0     00035         u         g   \n",
       "4         a       34.0       83.0         0    000125         y         p   \n",
       "\n",
       "  variable8 variable9 variable10  ... variable13 variable14 variable15  \\\n",
       "0         k         v          0  ...          f          0          f   \n",
       "1        ff        ff          0  ...          1          f          g   \n",
       "2         i         o          0  ...          f          0          f   \n",
       "3         k         v          0  ...          f          0          t   \n",
       "4         i         h          0  ...          f          0          t   \n",
       "\n",
       "  variable16 variable17 variable18 variable19 variable20 variable21 classLabel  \n",
       "0          s        200          0      2e+06        NaN          0        no.  \n",
       "1         96         19     960000          t          0        no.        NaN  \n",
       "2          g          0        120          0        NaN          0        no.  \n",
       "3          g        232          0    2320000          f          0        no.  \n",
       "4          g        160          0    1600000          f          0        no.  \n",
       "\n",
       "[5 rows x 22 columns]"
      ]
     },
     "execution_count": 4,
     "metadata": {},
     "output_type": "execute_result"
    }
   ],
   "source": [
    "test.head()"
   ]
  },
  {
   "cell_type": "code",
   "execution_count": 5,
   "metadata": {},
   "outputs": [
    {
     "name": "stdout",
     "output_type": "stream",
     "text": [
      "no of records in training dataset is :  3699\n",
      "no of records in testing dataset is :  3699\n"
     ]
    }
   ],
   "source": [
    "print(\"no of records in training dataset is : \", train.shape[0])\n",
    "print(\"no of records in testing dataset is : \", test.shape[0])"
   ]
  },
  {
   "cell_type": "markdown",
   "metadata": {},
   "source": [
    "# Resplitting the data\n",
    "I can see that half of data is test se i will concatenate the 2 dataframes so that I can split again but with bigger percintage for taining "
   ]
  },
  {
   "cell_type": "code",
   "execution_count": 6,
   "metadata": {},
   "outputs": [],
   "source": [
    "data = pd.concat([train, test], axis=0)\n",
    "data=data.reset_index(drop=True)"
   ]
  },
  {
   "cell_type": "markdown",
   "metadata": {},
   "source": [
    "# Getting column names and datatypes "
   ]
  },
  {
   "cell_type": "code",
   "execution_count": 7,
   "metadata": {},
   "outputs": [
    {
     "name": "stdout",
     "output_type": "stream",
     "text": [
      "<class 'pandas.core.frame.DataFrame'>\n",
      "RangeIndex: 7398 entries, 0 to 7397\n",
      "Data columns (total 22 columns):\n",
      " #   Column      Non-Null Count  Dtype  \n",
      "---  ------      --------------  -----  \n",
      " 0   variable1   7320 non-null   object \n",
      " 1   variable2   7320 non-null   float64\n",
      " 2   variable3   7398 non-null   float64\n",
      " 3   variable4   7398 non-null   object \n",
      " 4   variable5   7270 non-null   object \n",
      " 5   variable6   7270 non-null   object \n",
      " 6   variable7   7270 non-null   object \n",
      " 7   variable8   7266 non-null   object \n",
      " 8   variable9   7394 non-null   object \n",
      " 9   variable10  7398 non-null   object \n",
      " 10  variable11  7398 non-null   object \n",
      " 11  variable12  7398 non-null   object \n",
      " 12  variable13  7398 non-null   object \n",
      " 13  variable14  7398 non-null   object \n",
      " 14  variable15  7268 non-null   object \n",
      " 15  variable16  7394 non-null   object \n",
      " 16  variable17  7168 non-null   object \n",
      " 17  variable18  7002 non-null   object \n",
      " 18  variable19  5868 non-null   object \n",
      " 19  variable20  4898 non-null   object \n",
      " 20  variable21  6688 non-null   object \n",
      " 21  classLabel  4016 non-null   object \n",
      "dtypes: float64(2), object(20)\n",
      "memory usage: 1.2+ MB\n"
     ]
    }
   ],
   "source": [
    "data.info()"
   ]
  },
  {
   "cell_type": "markdown",
   "metadata": {},
   "source": [
    "# Counting missing values"
   ]
  },
  {
   "cell_type": "code",
   "execution_count": 8,
   "metadata": {},
   "outputs": [
    {
     "data": {
      "text/plain": [
       "variable1       78\n",
       "variable2       78\n",
       "variable3        0\n",
       "variable4        0\n",
       "variable5      128\n",
       "variable6      128\n",
       "variable7      128\n",
       "variable8      132\n",
       "variable9        4\n",
       "variable10       0\n",
       "variable11       0\n",
       "variable12       0\n",
       "variable13       0\n",
       "variable14       0\n",
       "variable15     130\n",
       "variable16       4\n",
       "variable17     230\n",
       "variable18     396\n",
       "variable19    1530\n",
       "variable20    2500\n",
       "variable21     710\n",
       "classLabel    3382\n",
       "dtype: int64"
      ]
     },
     "execution_count": 8,
     "metadata": {},
     "output_type": "execute_result"
    }
   ],
   "source": [
    "data.isnull().sum()"
   ]
  },
  {
   "cell_type": "markdown",
   "metadata": {},
   "source": [
    "# Handling missing values by 2 ways \n",
    "1-fill null values with mean of the column data if it's numeric                                                    \n",
    "2-delete rows in class label column and with categorical data"
   ]
  },
  {
   "cell_type": "code",
   "execution_count": 9,
   "metadata": {},
   "outputs": [],
   "source": [
    "data.dropna(subset=[\"classLabel\",\"variable1\",\"variable8\",\"variable9\"],inplace=True)"
   ]
  },
  {
   "cell_type": "code",
   "execution_count": 10,
   "metadata": {},
   "outputs": [
    {
     "data": {
      "text/plain": [
       "variable1        0\n",
       "variable2        0\n",
       "variable3        0\n",
       "variable4        0\n",
       "variable5        0\n",
       "variable6        0\n",
       "variable7        0\n",
       "variable8        0\n",
       "variable9        0\n",
       "variable10       0\n",
       "variable11       0\n",
       "variable12       0\n",
       "variable13       0\n",
       "variable14       0\n",
       "variable15       0\n",
       "variable16       0\n",
       "variable17      66\n",
       "variable18       0\n",
       "variable19      66\n",
       "variable20    2366\n",
       "variable21       0\n",
       "classLabel       0\n",
       "dtype: int64"
      ]
     },
     "execution_count": 10,
     "metadata": {},
     "output_type": "execute_result"
    }
   ],
   "source": [
    "data.isnull().sum()"
   ]
  },
  {
   "cell_type": "markdown",
   "metadata": {},
   "source": [
    "### I see that alot of variable 20 column is null and if I deleted the rows with null I will lose important data so Insted I will remove that variable  "
   ]
  },
  {
   "cell_type": "code",
   "execution_count": 11,
   "metadata": {},
   "outputs": [],
   "source": [
    "data.drop(columns=\"variable20\",inplace=True)\n",
    "data.rename(columns={'variable21':'variable20'}, inplace=True)"
   ]
  },
  {
   "cell_type": "markdown",
   "metadata": {},
   "source": [
    "# Changing columns with numbers from object dtype to numeric dtype "
   ]
  },
  {
   "cell_type": "code",
   "execution_count": 12,
   "metadata": {},
   "outputs": [],
   "source": [
    "data[\"variable4\"]=pd.to_numeric(data[\"variable4\"])\n",
    "data[\"variable5\"]=pd.to_numeric(data[\"variable5\"])\n",
    "data[\"variable10\"]=pd.to_numeric(data[\"variable10\"])\n",
    "data[\"variable11\"]=pd.to_numeric(data[\"variable11\"])\n",
    "data[\"variable14\"]=pd.to_numeric(data[\"variable14\"])\n",
    "data[\"variable17\"]=pd.to_numeric(data[\"variable17\"])\n",
    "data[\"variable18\"]=pd.to_numeric(data[\"variable18\"])\n",
    "data[\"variable19\"]=pd.to_numeric(data[\"variable19\"])\n",
    "data[\"variable20\"]=pd.to_numeric(data[\"variable20\"])\n",
    "data.fillna(data.mean(), inplace=True)"
   ]
  },
  {
   "cell_type": "markdown",
   "metadata": {},
   "source": [
    "# Exploring data in each column"
   ]
  },
  {
   "cell_type": "code",
   "execution_count": 13,
   "metadata": {},
   "outputs": [
    {
     "name": "stdout",
     "output_type": "stream",
     "text": [
      "variable 1 has  ['b' 'a']\n",
      "variable 2 has  [16. 48. 32. 34. 21. 28. 18. 24. 17. 51. 31. 25. 40. 30. 22. 27. 26. 47.\n",
      " 33. 37. 59. 42. 53. 54. 20. 23. 41. 39. 35. 44. 52. 43. 19. 29. 45. 50.\n",
      " 49. 38. 36. 15. 56. 64. 46. 55.]\n",
      "variable 3 has  [92. 17. 33. 83. 75. 58. 42. 67.  5. 25.  8.]\n",
      "variable 4 has  [3 0 8 7 6 4 1 5 2 9]\n",
      "variable 5 has  [3.5000e-04 1.3350e+03 3.5000e+01 1.2500e+02 7.5000e-04 1.0250e+03\n",
      " 1.3665e+04 1.0000e+00 2.0400e+02 1.5500e+02 3.2500e+02 2.3350e+03\n",
      " 8.1250e+03 2.5000e+01 1.3750e+03 5.0000e-05 1.5000e+01 1.0400e+02\n",
      " 4.2500e+02 1.0750e+03 3.0400e+02 1.5400e+02 4.9150e+03 5.5000e+01\n",
      " 9.6250e+03 2.5400e+02 9.4150e+03 6.5000e+01 7.0000e-05 3.1650e+03\n",
      " 5.0850e+03 1.1500e+02 1.1650e+03 2.7500e+02 3.1250e+03 1.5000e-04\n",
      " 4.5000e+01 5.8350e+03 1.7500e+02 1.7100e+02 6.6650e+03 6.5000e-04\n",
      " 3.0000e-05 4.6250e+03 4.0000e-05 1.8350e+03 1.1000e+01 5.1250e+03\n",
      " 8.4600e+02 2.5210e+03 1.0915e+04 6.0000e-05 8.5000e-04 9.0000e-05\n",
      " 4.0850e+03 2.4150e+03 1.0800e+02 1.0085e+04 9.7500e+02 9.5000e+01\n",
      " 2.7100e+02 1.1625e+04 5.0400e+02 5.2500e+02 8.5850e+03 6.2100e+02\n",
      " 7.5850e+03 8.0000e-05 2.2500e+02 7.2500e+02 3.7500e+02 5.7100e+02\n",
      " 2.2900e+02 4.4150e+03 6.1650e+03 4.4600e+02 9.3350e+03 2.8750e+03\n",
      " 1.1250e+03 2.5000e-04 5.6250e+03 1.2540e+03 2.1650e+03 2.6650e+03\n",
      " 1.3000e+01 5.2900e+02 1.1460e+03 9.5400e+02 1.6650e+03 7.6250e+03\n",
      " 1.0290e+03 1.0125e+04 1.3585e+04 1.2250e+03 5.6650e+03 2.0000e+00\n",
      " 9.2500e+02 1.0500e+02 2.8000e+01 1.4500e+02 8.5000e+01 1.0850e+03\n",
      " 1.0000e-05 1.4600e+02 1.1125e+04 6.7500e+02 1.8125e+04 1.5850e+03\n",
      " 1.2835e+04 1.2000e+01 4.1250e+03 3.2900e+02 1.1585e+04 1.4790e+03\n",
      " 2.5125e+04 1.0335e+04 5.8750e+03 7.5000e+01 9.1700e+02 7.0800e+02\n",
      " 1.2125e+04]\n",
      "variable 6 has  ['y' 'u']\n",
      "variable 7 has  ['p' 'g']\n",
      "variable 8 has  ['k' 'i' 'c' 'q' 'W' 'ff' 'd' 'cc' 'r' 'm' 'e' 'aa' 'j' 'x']\n",
      "variable 9 has  ['v' 'o' 'h' 'ff' 'bb' 'n' 'j']\n",
      "variable 10 has  [ 0  1  2  5  4  6  3  8 14  7  9 12 17 28 13 15]\n",
      "variable 11 has  [ 29 335   5  25  85 165  75   4 585 375 125 415 665  21  58  71  46 625\n",
      "  54 835 875  96  17]\n",
      "variable 12 has  ['f' 't']\n",
      "variable 13 has  ['f' 't']\n",
      "variable 14 has  [ 0  1  2  3  5 11 12  9 14  4  6  7 16 15  8 67 40 10]\n",
      "variable 15 has  ['f' 't']\n",
      "variable 16 has  ['s' 'g' 'p']\n",
      "variable 17 has  [200.           0.         232.         160.         280.\n",
      " 220.         320.         340.         120.         416.\n",
      " 292.         177.04298874 400.         100.         108.\n",
      " 333.         300.         164.         225.         180.\n",
      "  29.         260.          52.         228.          30.\n",
      "  93.         356.         140.         465.         128.\n",
      " 680.          40.         440.         349.          80.\n",
      "  49.         420.         760.         208.         224.\n",
      "  28.         240.          70.         211.         274.\n",
      "  60.          92.         150.         290.         117.\n",
      " 145.          96.         369.         174.         720.\n",
      " 396.         520.         311.         380.         381.\n",
      " 840.         360.         431.         144.         156.\n",
      " 640.         348.         216.         454.         121.\n",
      " 303.         129.         443.         132.         352.\n",
      " 254.         272.         487.         408.         181.\n",
      " 370.         395.         204.         163.         329.\n",
      " 170.         168.         515.        ]\n",
      "variable 18 has  [    0   120   204   140    13     1    21    18   456    33     9     3\n",
      "    98   892    44 31285  5800   560 18027   837  1442   300     2  1058\n",
      "   184    50   225    25     4  1210   150     6    68   134 11177  2283\n",
      "  2200  2503    23     7  1430    90   100   347    87  4208   117  2206\n",
      "   610  2184  2954     8   200  1270 11202  1583  5000  2803    10    17\n",
      "   154    55     5  1000 50000   500   168    59   400   600   113  2384\n",
      "   284  4000   501  1212   160    42    70   251   196   582  3290  3257\n",
      "  2732  5298    28   258    15   567   350   112    11  1950   210   286\n",
      "   237   351   750   444  2079  1655   790   690    20   364   195   246\n",
      "    80  3552   108   179  1349  7059   327   245 15108 26726   221   173]\n",
      "variable 19 has  [2000000.               0.         2320000.         1600000.\n",
      " 2800000.         2200000.         3200000.         3400000.\n",
      " 1200000.         4160000.         2920000.         1770429.88741044\n",
      " 4000000.         1000000.         1080000.         3330000.\n",
      " 3000000.         1640000.         2250000.         1800000.\n",
      "  290000.         2600000.          520000.         2280000.\n",
      "  300000.          930000.         3560000.         1400000.\n",
      " 4650000.         1280000.         6800000.          400000.\n",
      " 4400000.         3490000.          800000.          490000.\n",
      " 4200000.         7600000.         2080000.         2240000.\n",
      "  280000.         2400000.          700000.         2110000.\n",
      " 2740000.          600000.          920000.         1500000.\n",
      " 2900000.         1170000.         1450000.          960000.\n",
      " 3690000.         1740000.         7200000.         3960000.\n",
      " 5200000.         3110000.         3800000.         3810000.\n",
      " 8400000.         3600000.         4310000.         1440000.\n",
      " 1560000.         6400000.         3480000.         2160000.\n",
      " 4540000.         1210000.         3030000.         1290000.\n",
      " 4430000.         1320000.         3520000.         2540000.\n",
      " 2720000.         4870000.         4080000.         1810000.\n",
      " 3700000.         3950000.         2040000.         1630000.\n",
      " 3290000.         1700000.         1680000.         5150000.        ]\n",
      "variable 20 has  [0 1]\n"
     ]
    }
   ],
   "source": [
    "for i in range(1,21):\n",
    "    col=\"variable\"+str(i)\n",
    "    print(\"variable\",i ,\"has \",data[col].unique())"
   ]
  },
  {
   "cell_type": "markdown",
   "metadata": {},
   "source": [
    "# Saving data after cleaning to save time in case of using again "
   ]
  },
  {
   "cell_type": "code",
   "execution_count": 14,
   "metadata": {},
   "outputs": [],
   "source": [
    "data.to_csv ('alldata.csv', index = False, header=True)"
   ]
  },
  {
   "cell_type": "markdown",
   "metadata": {},
   "source": [
    "# Eploring the distribution of the labels"
   ]
  },
  {
   "cell_type": "code",
   "execution_count": 15,
   "metadata": {},
   "outputs": [
    {
     "name": "stdout",
     "output_type": "stream",
     "text": [
      "number of samples in each class\n",
      "yes.    3680\n",
      "no.      294\n",
      "Name: classLabel, dtype: int64\n"
     ]
    },
    {
     "data": {
      "image/png": "[encoded data removed]",
      "text/plain": [
       "<Figure size 432x288 with 1 Axes>"
      ]
     },
     "metadata": {
      "needs_background": "light"
     },
     "output_type": "display_data"
    }
   ],
   "source": [
    "y=data[\"classLabel\"]\n",
    "y.value_counts().plot(kind='bar')\n",
    "print(\"number of samples in each class\")\n",
    "print(y.value_counts())\n",
    "data.drop(columns=[\"classLabel\"],inplace=True)"
   ]
  },
  {
   "cell_type": "markdown",
   "metadata": {},
   "source": [
    "# Find correlation between columns"
   ]
  },
  {
   "cell_type": "code",
   "execution_count": 16,
   "metadata": {},
   "outputs": [
    {
     "data": {
      "image/png": "[encoded data removed]",
      "text/plain": [
       "<Figure size 842.4x595.44 with 2 Axes>"
      ]
     },
     "metadata": {},
     "output_type": "display_data"
    }
   ],
   "source": [
    "sn.set(rc={'figure.figsize':(11.7,8.27)})\n",
    "corrMatrix = data.corr()\n",
    "sn.heatmap(corrMatrix, annot=True)\n",
    "plt.show()"
   ]
  },
  {
   "cell_type": "markdown",
   "metadata": {},
   "source": [
    "## there is no big correlation between the columns so i will use all columns"
   ]
  },
  {
   "cell_type": "markdown",
   "metadata": {},
   "source": [
    "# Converting categorical variables in features and label data to numbers"
   ]
  },
  {
   "cell_type": "code",
   "execution_count": 17,
   "metadata": {},
   "outputs": [
    {
     "data": {
      "text/html": [
       "<div>\n",
       "<style scoped>\n",
       "    .dataframe tbody tr th:only-of-type {\n",
       "        vertical-align: middle;\n",
       "    }\n",
       "\n",
       "    .dataframe tbody tr th {\n",
       "        vertical-align: top;\n",
       "    }\n",
       "\n",
       "    .dataframe thead th {\n",
       "        text-align: right;\n",
       "    }\n",
       "</style>\n",
       "<table border=\"1\" class=\"dataframe\">\n",
       "  <thead>\n",
       "    <tr style=\"text-align: right;\">\n",
       "      <th></th>\n",
       "      <th>variable2</th>\n",
       "      <th>variable3</th>\n",
       "      <th>variable4</th>\n",
       "      <th>variable5</th>\n",
       "      <th>variable10</th>\n",
       "      <th>variable11</th>\n",
       "      <th>variable14</th>\n",
       "      <th>variable17</th>\n",
       "      <th>variable18</th>\n",
       "      <th>variable19</th>\n",
       "      <th>...</th>\n",
       "      <th>variable9_v</th>\n",
       "      <th>variable12_f</th>\n",
       "      <th>variable12_t</th>\n",
       "      <th>variable13_f</th>\n",
       "      <th>variable13_t</th>\n",
       "      <th>variable15_f</th>\n",
       "      <th>variable15_t</th>\n",
       "      <th>variable16_g</th>\n",
       "      <th>variable16_p</th>\n",
       "      <th>variable16_s</th>\n",
       "    </tr>\n",
       "  </thead>\n",
       "  <tbody>\n",
       "    <tr>\n",
       "      <th>0</th>\n",
       "      <td>16.0</td>\n",
       "      <td>92.0</td>\n",
       "      <td>3</td>\n",
       "      <td>0.00035</td>\n",
       "      <td>0</td>\n",
       "      <td>29</td>\n",
       "      <td>0</td>\n",
       "      <td>200.0</td>\n",
       "      <td>0</td>\n",
       "      <td>2000000.0</td>\n",
       "      <td>...</td>\n",
       "      <td>1</td>\n",
       "      <td>1</td>\n",
       "      <td>0</td>\n",
       "      <td>1</td>\n",
       "      <td>0</td>\n",
       "      <td>1</td>\n",
       "      <td>0</td>\n",
       "      <td>0</td>\n",
       "      <td>0</td>\n",
       "      <td>1</td>\n",
       "    </tr>\n",
       "    <tr>\n",
       "      <th>2</th>\n",
       "      <td>48.0</td>\n",
       "      <td>17.0</td>\n",
       "      <td>0</td>\n",
       "      <td>1335.00000</td>\n",
       "      <td>0</td>\n",
       "      <td>335</td>\n",
       "      <td>0</td>\n",
       "      <td>0.0</td>\n",
       "      <td>120</td>\n",
       "      <td>0.0</td>\n",
       "      <td>...</td>\n",
       "      <td>0</td>\n",
       "      <td>1</td>\n",
       "      <td>0</td>\n",
       "      <td>1</td>\n",
       "      <td>0</td>\n",
       "      <td>1</td>\n",
       "      <td>0</td>\n",
       "      <td>1</td>\n",
       "      <td>0</td>\n",
       "      <td>0</td>\n",
       "    </tr>\n",
       "    <tr>\n",
       "      <th>3</th>\n",
       "      <td>32.0</td>\n",
       "      <td>33.0</td>\n",
       "      <td>0</td>\n",
       "      <td>35.00000</td>\n",
       "      <td>0</td>\n",
       "      <td>5</td>\n",
       "      <td>0</td>\n",
       "      <td>232.0</td>\n",
       "      <td>0</td>\n",
       "      <td>2320000.0</td>\n",
       "      <td>...</td>\n",
       "      <td>1</td>\n",
       "      <td>1</td>\n",
       "      <td>0</td>\n",
       "      <td>1</td>\n",
       "      <td>0</td>\n",
       "      <td>0</td>\n",
       "      <td>1</td>\n",
       "      <td>1</td>\n",
       "      <td>0</td>\n",
       "      <td>0</td>\n",
       "    </tr>\n",
       "    <tr>\n",
       "      <th>4</th>\n",
       "      <td>34.0</td>\n",
       "      <td>83.0</td>\n",
       "      <td>0</td>\n",
       "      <td>125.00000</td>\n",
       "      <td>0</td>\n",
       "      <td>5</td>\n",
       "      <td>0</td>\n",
       "      <td>160.0</td>\n",
       "      <td>0</td>\n",
       "      <td>1600000.0</td>\n",
       "      <td>...</td>\n",
       "      <td>0</td>\n",
       "      <td>1</td>\n",
       "      <td>0</td>\n",
       "      <td>1</td>\n",
       "      <td>0</td>\n",
       "      <td>0</td>\n",
       "      <td>1</td>\n",
       "      <td>1</td>\n",
       "      <td>0</td>\n",
       "      <td>0</td>\n",
       "    </tr>\n",
       "    <tr>\n",
       "      <th>6</th>\n",
       "      <td>21.0</td>\n",
       "      <td>17.0</td>\n",
       "      <td>8</td>\n",
       "      <td>0.00075</td>\n",
       "      <td>0</td>\n",
       "      <td>25</td>\n",
       "      <td>0</td>\n",
       "      <td>280.0</td>\n",
       "      <td>204</td>\n",
       "      <td>2800000.0</td>\n",
       "      <td>...</td>\n",
       "      <td>0</td>\n",
       "      <td>1</td>\n",
       "      <td>0</td>\n",
       "      <td>1</td>\n",
       "      <td>0</td>\n",
       "      <td>1</td>\n",
       "      <td>0</td>\n",
       "      <td>1</td>\n",
       "      <td>0</td>\n",
       "      <td>0</td>\n",
       "    </tr>\n",
       "  </tbody>\n",
       "</table>\n",
       "<p>5 rows × 47 columns</p>\n",
       "</div>"
      ],
      "text/plain": [
       "   variable2  variable3  variable4   variable5  variable10  variable11  \\\n",
       "0       16.0       92.0          3     0.00035           0          29   \n",
       "2       48.0       17.0          0  1335.00000           0         335   \n",
       "3       32.0       33.0          0    35.00000           0           5   \n",
       "4       34.0       83.0          0   125.00000           0           5   \n",
       "6       21.0       17.0          8     0.00075           0          25   \n",
       "\n",
       "   variable14  variable17  variable18  variable19  ...  variable9_v  \\\n",
       "0           0       200.0           0   2000000.0  ...            1   \n",
       "2           0         0.0         120         0.0  ...            0   \n",
       "3           0       232.0           0   2320000.0  ...            1   \n",
       "4           0       160.0           0   1600000.0  ...            0   \n",
       "6           0       280.0         204   2800000.0  ...            0   \n",
       "\n",
       "   variable12_f  variable12_t  variable13_f  variable13_t  variable15_f  \\\n",
       "0             1             0             1             0             1   \n",
       "2             1             0             1             0             1   \n",
       "3             1             0             1             0             0   \n",
       "4             1             0             1             0             0   \n",
       "6             1             0             1             0             1   \n",
       "\n",
       "   variable15_t  variable16_g  variable16_p  variable16_s  \n",
       "0             0             0             0             1  \n",
       "2             0             1             0             0  \n",
       "3             1             1             0             0  \n",
       "4             1             1             0             0  \n",
       "6             0             1             0             0  \n",
       "\n",
       "[5 rows x 47 columns]"
      ]
     },
     "execution_count": 17,
     "metadata": {},
     "output_type": "execute_result"
    }
   ],
   "source": [
    "data=pd.get_dummies(data)\n",
    "data.head()"
   ]
  },
  {
   "cell_type": "code",
   "execution_count": 18,
   "metadata": {},
   "outputs": [],
   "source": [
    "from sklearn import preprocessing\n",
    "\n",
    "le1 = preprocessing.LabelEncoder()\n",
    "le1.fit(y)\n",
    "y=le1.transform(y) \n",
    "y = pd.DataFrame(y,columns=['y'])\n"
   ]
  },
  {
   "cell_type": "code",
   "execution_count": 19,
   "metadata": {},
   "outputs": [],
   "source": [
    "x=data.loc[:,:].values\n",
    "y = y.loc[:,:].values"
   ]
  },
  {
   "cell_type": "markdown",
   "metadata": {},
   "source": [
    "# Perform over-sampling using Adaptive Synthetic (ADASYN) sampling approach for imbalanced datasets \n",
    "this approach can help in 2 ways                                                                                         \n",
    "1- solve imbalance problem                                                                                          \n",
    "2- will avoid overfitting that can be made by dublicating data"
   ]
  },
  {
   "cell_type": "code",
   "execution_count": 20,
   "metadata": {},
   "outputs": [],
   "source": [
    "from imblearn.over_sampling import ADASYN\n",
    "sampler = ADASYN()\n",
    "X_rs, y_rs = sampler.fit_sample(x, y)"
   ]
  },
  {
   "cell_type": "markdown",
   "metadata": {},
   "source": [
    "# Importing machine learning models"
   ]
  },
  {
   "cell_type": "code",
   "execution_count": 21,
   "metadata": {},
   "outputs": [],
   "source": [
    "from sklearn.model_selection import train_test_split\n",
    "from sklearn.model_selection import cross_val_score\n",
    "from sklearn.model_selection import StratifiedKFold\n",
    "from sklearn.metrics import classification_report\n",
    "from sklearn.metrics import confusion_matrix\n",
    "from sklearn.metrics import accuracy_score\n",
    "from sklearn.linear_model import LogisticRegression\n",
    "from sklearn.tree import DecisionTreeClassifier\n",
    "from sklearn.neighbors import KNeighborsClassifier\n",
    "from sklearn.discriminant_analysis import LinearDiscriminantAnalysis\n",
    "from sklearn.naive_bayes import GaussianNB\n",
    "from sklearn.svm import SVC"
   ]
  },
  {
   "cell_type": "markdown",
   "metadata": {},
   "source": [
    "# Splitting the data to 70% train 30% test"
   ]
  },
  {
   "cell_type": "code",
   "execution_count": 22,
   "metadata": {},
   "outputs": [],
   "source": [
    "X_train, X_test, y_train, y_test = train_test_split(X_rs, y_rs, test_size=0.30, random_state=42)"
   ]
  },
  {
   "cell_type": "markdown",
   "metadata": {},
   "source": [
    "# Builind different machine learning models to get the best model\n",
    "# Using cross validation i can get more accurate estimate of out-of-sample accuracy"
   ]
  },
  {
   "cell_type": "code",
   "execution_count": 23,
   "metadata": {},
   "outputs": [
    {
     "name": "stdout",
     "output_type": "stream",
     "text": [
      "model LR: average accuracy = 0.649585 and best accuracy = 0.677734\n",
      "model LDA: average accuracy = 0.885415 and best accuracy = 0.919765\n",
      "model KNN: average accuracy = 0.989442 and best accuracy = 0.994129\n",
      "model CART: average accuracy = 1.000000 and best accuracy = 1.000000\n",
      "model NB: average accuracy = 0.624958 and best accuracy = 0.663405\n",
      "model SVM: average accuracy = 1.000000 and best accuracy = 1.000000\n"
     ]
    }
   ],
   "source": [
    "models = []\n",
    "models.append(('LR', LogisticRegression(solver='liblinear', multi_class='ovr')))\n",
    "models.append(('LDA', LinearDiscriminantAnalysis()))\n",
    "models.append(('KNN', KNeighborsClassifier()))\n",
    "models.append(('CART', DecisionTreeClassifier()))\n",
    "models.append(('NB', GaussianNB()))\n",
    "models.append(('SVM', SVC(gamma='auto')))\n",
    "# evaluate each model in turn\n",
    "results = []\n",
    "names = []\n",
    "for name, model in models:\n",
    "    kfold = StratifiedKFold(n_splits=10, random_state=1, shuffle=True)\n",
    "    cv_results = cross_val_score(model, X_train, y_train, cv=kfold, scoring='accuracy')\n",
    "    results.append(cv_results)\n",
    "    names.append(name)\n",
    "    print('model %s: average accuracy = %f and best accuracy = %f' % (name, cv_results.mean(), cv_results.max()))"
   ]
  },
  {
   "cell_type": "markdown",
   "metadata": {},
   "source": [
    "# From the last output i decided to use svm to build the model"
   ]
  },
  {
   "cell_type": "code",
   "execution_count": 24,
   "metadata": {},
   "outputs": [],
   "source": [
    "# Make predictions on validation dataset\n",
    "model = SVC(gamma='auto')\n",
    "model.fit(X_train, y_train)\n",
    "predictions = model.predict(X_test)"
   ]
  },
  {
   "cell_type": "markdown",
   "metadata": {},
   "source": [
    "# Confusion matrix to get accuracy of the model in each class "
   ]
  },
  {
   "cell_type": "code",
   "execution_count": 25,
   "metadata": {},
   "outputs": [
    {
     "data": {
      "image/png": "[encoded data removed]",
      "text/plain": [
       "<Figure size 842.4x595.44 with 2 Axes>"
      ]
     },
     "metadata": {},
     "output_type": "display_data"
    }
   ],
   "source": [
    "sn.set(rc={'figure.figsize':(11.7,8.27)})\n",
    "con=confusion_matrix(y_test, predictions)\n",
    "sn.heatmap(con, annot=True)\n",
    "plt.show()"
   ]
  },
  {
   "cell_type": "markdown",
   "metadata": {},
   "source": [
    "# Saving the model to use it in flask app"
   ]
  },
  {
   "cell_type": "code",
   "execution_count": 26,
   "metadata": {},
   "outputs": [],
   "source": [
    "import pickle\n",
    "pickle.dump(model, open('model.pkl','wb'))"
   ]
  }
 ],
 "metadata": {
  "kernelspec": {
   "display_name": "myenv",
   "language": "python",
   "name": "myenv"
  },
  "language_info": {
   "codemirror_mode": {
    "name": "ipython",
    "version": 3
   },
   "file_extension": ".py",
   "mimetype": "text/x-python",
   "name": "python",
   "nbconvert_exporter": "python",
   "pygments_lexer": "ipython3",
   "version": "3.6.8"
  }
 },
 "nbformat": 4,
 "nbformat_minor": 4
}
